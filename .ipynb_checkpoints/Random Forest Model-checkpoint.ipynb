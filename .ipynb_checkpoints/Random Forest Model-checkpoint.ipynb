{
 "cells": [
  {
   "cell_type": "code",
   "execution_count": 1,
   "metadata": {},
   "outputs": [
    {
     "data": {
      "text/html": [
       "<style>.container { width:90% !important; }</style>"
      ],
      "text/plain": [
       "<IPython.core.display.HTML object>"
      ]
     },
     "metadata": {},
     "output_type": "display_data"
    }
   ],
   "source": [
    "# Increase notebook width\n",
    "from IPython.core.display import display, HTML\n",
    "display(HTML(\"<style>.container { width:90% !important; }</style>\"))"
   ]
  },
  {
   "cell_type": "code",
   "execution_count": 2,
   "metadata": {},
   "outputs": [],
   "source": [
    "# Efficient math and data management\n",
    "import numpy as np\n",
    "import pandas as pd\n",
    "\n",
    "# You may import useful modules and functions from the Python Standard Library.\n",
    "import os\n",
    "from functools import reduce  \n",
    "\n",
    "# Machine Learning\n",
    "from sklearn.model_selection import train_test_split\n",
    "from sklearn.preprocessing import StandardScaler\n",
    "from scipy.optimize import minimize\n",
    "from scipy.sparse.linalg import lsqr\n",
    "from sklearn.metrics import r2_score\n",
    "\n",
    "from sklearn.ensemble import RandomForestClassifier\n",
    "from sklearn.metrics import r2_score, roc_auc_score, roc_curve, precision_recall_fscore_support, classification_report\n",
    "\n",
    "\n",
    "# Visualization libraries\n",
    "import matplotlib\n",
    "import matplotlib.pyplot as plt\n",
    "import seaborn as sns"
   ]
  },
  {
   "cell_type": "code",
   "execution_count": 3,
   "metadata": {},
   "outputs": [],
   "source": [
    "# Inline figures. Can swap comments to use interactive figures. Use inline figures for assignment submission.\n",
    "%matplotlib inline\n",
    "# %matplotlib notebook"
   ]
  },
  {
   "cell_type": "code",
   "execution_count": 4,
   "metadata": {},
   "outputs": [],
   "source": [
    "# Set seaborn visual style\n",
    "sns.set()\n",
    "sns.set_context('talk')\n",
    "plt.rcParams[\"patch.force_edgecolor\"] = False  # Turn off histogram borders"
   ]
  },
  {
   "cell_type": "code",
   "execution_count": 5,
   "metadata": {},
   "outputs": [],
   "source": [
    "#Read in the data\n",
    "data_dir = './nhanes'\n",
    "\n",
    "data = {}\n",
    "for filename in os.listdir(data_dir):\n",
    "    file = os.path.abspath(os.path.join(data_dir, filename))\n",
    "    name, ext = os.path.splitext(os.path.basename(file))\n",
    "    if ext.lower() == '.xpt':\n",
    "        data[name[:-2]] = pd.read_sas(file, encoding='UTF-8')"
   ]
  },
  {
   "cell_type": "code",
   "execution_count": 6,
   "metadata": {},
   "outputs": [],
   "source": [
    "def join_files(a, b): \n",
    "    return a.merge(b, on='SEQN', how='outer')\n",
    "\n",
    "intersect_data = reduce(join_files, [data[k] for k in data]) \n",
    "model_data = intersect_data[['SEQN','SLD012','ALQ130','DUQ230','DUQ280','DUQ320','DUQ360','PAQ610','BMXBMI','SMD650','OCQ180']]\n",
    "\n",
    "#Added to see if it fixes dataframe\n",
    "#model_data['DUQ'] = model_data['DUQ230'].fillna(0) + model_data['DUQ280'].fillna(0) + model_data['DUQ320'].fillna(0) + model_data['DUQ360'].fillna(0)\n",
    "#model_data = model_data.drop(['DUQ230', 'DUQ280', 'DUQ320', 'DUQ360'], axis = 1)\n",
    "\n",
    "DPQ = intersect_data[['SEQN','DPQ010','DPQ020','DPQ030','DPQ040','DPQ050','DPQ060','DPQ070','DPQ080','DPQ090']]"
   ]
  },
  {
   "cell_type": "code",
   "execution_count": 7,
   "metadata": {},
   "outputs": [],
   "source": [
    "def depression_status(score): #Returns a label based on PHQ-9 measures\n",
    "    if score < 5:\n",
    "        return 'None'\n",
    "    elif score >=5 and score < 10:\n",
    "        return 'Mild'\n",
    "    elif score >=10 and score < 15:\n",
    "        return 'Moderate'\n",
    "    elif score >=15 and score < 20:\n",
    "        return 'Moderately Severe'\n",
    "    else: \n",
    "        return 'Severe Depression'    \n",
    "\n",
    "DPQ = DPQ.round() #fix a weird read_sas format\n",
    "backup_SEQN = DPQ['SEQN'] \n",
    "\n",
    "DPQ = DPQ[(DPQ.loc[:,'DPQ010':'DPQ090'] < 4)] # Removes responses greater than 4, which also unfortunately messes up SEQN column\n",
    "DPQ['SEQN'] = backup_SEQN # Fixes SEQN column\n",
    "DPQ = DPQ.dropna() # Drops na values and rows who's responses weren't between 0-3\n",
    "\n",
    "DPQ['D-Score'] = DPQ['DPQ010'] + DPQ['DPQ020'] + DPQ['DPQ030'] + DPQ['DPQ040'] + DPQ['DPQ050'] + DPQ['DPQ060'] + DPQ['DPQ070'] + DPQ['DPQ080'] + DPQ['DPQ090']\n",
    "\n",
    "DPQ['Depression'] = DPQ['D-Score'].apply(lambda x: depression_status(x))\n",
    "DPQ = DPQ[['SEQN', 'Depression']]"
   ]
  },
  {
   "cell_type": "code",
   "execution_count": 8,
   "metadata": {},
   "outputs": [
    {
     "name": "stdout",
     "output_type": "stream",
     "text": [
      "None                 0.744278\n",
      "Mild                 0.165154\n",
      "Moderate             0.057616\n",
      "Moderately Severe    0.024467\n",
      "Severe Depression    0.008485\n",
      "Name: Depression, dtype: float64\n"
     ]
    }
   ],
   "source": [
    "print(DPQ.Depression.value_counts(normalize=True)) #I thought this statistic was neat"
   ]
  },
  {
   "cell_type": "code",
   "execution_count": 9,
   "metadata": {},
   "outputs": [],
   "source": [
    "model_data = join_files(model_data, DPQ)\n",
    "\n",
    "model_data['DUQ'] = model_data['DUQ230'].fillna(0) + model_data['DUQ280'].fillna(0) + model_data['DUQ320'].fillna(0) + model_data['DUQ360'].fillna(0)\n",
    "model_data = model_data.drop(['DUQ230', 'DUQ280', 'DUQ320', 'DUQ360'], axis = 1)\n",
    "#There's a weird warning that happens if I try to add DUQ before DPQ"
   ]
  },
  {
   "cell_type": "code",
   "execution_count": 10,
   "metadata": {},
   "outputs": [],
   "source": [
    "#data that needs refusals and don't know to be dropped ALQ130, PAQ610, SMD650, OCQ180\n",
    "\n",
    "model_data['ALQ130'] = model_data['ALQ130'].fillna(0) # 0 drinks consumed, there's no range for 0 drinks\n",
    "alqdel = model_data[(model_data['ALQ130'] == 777) | (model_data['ALQ130'] == 999)].index\n",
    "model_data.drop(alqdel, inplace = True)\n",
    "\n",
    "paqdel = model_data[(model_data['PAQ610'] == 77) | (model_data['PAQ610'] == 99)].index\n",
    "model_data.drop(paqdel, inplace = True)\n",
    "\n",
    "smddel = model_data[(model_data['SMD650'] == 777) | (model_data['SMD650'] == 999)].index\n",
    "model_data.drop(smddel, inplace = True)\n",
    "\n",
    "ocqdel = model_data[(model_data['OCQ180'] == 77777) | (model_data['OCQ180'] == 77777)].index\n",
    "model_data.drop(ocqdel, inplace = True)\n",
    "\n",
    "model_data = model_data.dropna()"
   ]
  },
  {
   "cell_type": "code",
   "execution_count": 11,
   "metadata": {},
   "outputs": [
    {
     "data": {
      "text/html": [
       "<div>\n",
       "<style scoped>\n",
       "    .dataframe tbody tr th:only-of-type {\n",
       "        vertical-align: middle;\n",
       "    }\n",
       "\n",
       "    .dataframe tbody tr th {\n",
       "        vertical-align: top;\n",
       "    }\n",
       "\n",
       "    .dataframe thead th {\n",
       "        text-align: right;\n",
       "    }\n",
       "</style>\n",
       "<table border=\"1\" class=\"dataframe\">\n",
       "  <thead>\n",
       "    <tr style=\"text-align: right;\">\n",
       "      <th></th>\n",
       "      <th>SEQN</th>\n",
       "      <th>SLD012</th>\n",
       "      <th>ALQ130</th>\n",
       "      <th>PAQ610</th>\n",
       "      <th>BMXBMI</th>\n",
       "      <th>SMD650</th>\n",
       "      <th>OCQ180</th>\n",
       "      <th>DUQ</th>\n",
       "      <th>Depression</th>\n",
       "    </tr>\n",
       "  </thead>\n",
       "  <tbody>\n",
       "    <tr>\n",
       "      <th>5</th>\n",
       "      <td>93712.0</td>\n",
       "      <td>7.5</td>\n",
       "      <td>0.0</td>\n",
       "      <td>6.0</td>\n",
       "      <td>19.7</td>\n",
       "      <td>2.0</td>\n",
       "      <td>55.0</td>\n",
       "      <td>1.0</td>\n",
       "      <td>None</td>\n",
       "    </tr>\n",
       "    <tr>\n",
       "      <th>26</th>\n",
       "      <td>93743.0</td>\n",
       "      <td>5.5</td>\n",
       "      <td>0.0</td>\n",
       "      <td>7.0</td>\n",
       "      <td>22.5</td>\n",
       "      <td>20.0</td>\n",
       "      <td>53.0</td>\n",
       "      <td>0.0</td>\n",
       "      <td>Mild</td>\n",
       "    </tr>\n",
       "    <tr>\n",
       "      <th>36</th>\n",
       "      <td>93761.0</td>\n",
       "      <td>8.0</td>\n",
       "      <td>2.0</td>\n",
       "      <td>5.0</td>\n",
       "      <td>29.0</td>\n",
       "      <td>10.0</td>\n",
       "      <td>40.0</td>\n",
       "      <td>0.0</td>\n",
       "      <td>None</td>\n",
       "    </tr>\n",
       "    <tr>\n",
       "      <th>174</th>\n",
       "      <td>93972.0</td>\n",
       "      <td>6.5</td>\n",
       "      <td>5.0</td>\n",
       "      <td>5.0</td>\n",
       "      <td>29.6</td>\n",
       "      <td>10.0</td>\n",
       "      <td>55.0</td>\n",
       "      <td>2.0</td>\n",
       "      <td>None</td>\n",
       "    </tr>\n",
       "    <tr>\n",
       "      <th>185</th>\n",
       "      <td>93987.0</td>\n",
       "      <td>6.5</td>\n",
       "      <td>7.0</td>\n",
       "      <td>5.0</td>\n",
       "      <td>39.2</td>\n",
       "      <td>8.0</td>\n",
       "      <td>32.0</td>\n",
       "      <td>0.0</td>\n",
       "      <td>None</td>\n",
       "    </tr>\n",
       "    <tr>\n",
       "      <th>...</th>\n",
       "      <td>...</td>\n",
       "      <td>...</td>\n",
       "      <td>...</td>\n",
       "      <td>...</td>\n",
       "      <td>...</td>\n",
       "      <td>...</td>\n",
       "      <td>...</td>\n",
       "      <td>...</td>\n",
       "      <td>...</td>\n",
       "    </tr>\n",
       "    <tr>\n",
       "      <th>5491</th>\n",
       "      <td>102884.0</td>\n",
       "      <td>9.0</td>\n",
       "      <td>4.0</td>\n",
       "      <td>5.0</td>\n",
       "      <td>31.7</td>\n",
       "      <td>2.0</td>\n",
       "      <td>60.0</td>\n",
       "      <td>0.0</td>\n",
       "      <td>None</td>\n",
       "    </tr>\n",
       "    <tr>\n",
       "      <th>5513</th>\n",
       "      <td>102918.0</td>\n",
       "      <td>9.0</td>\n",
       "      <td>6.0</td>\n",
       "      <td>5.0</td>\n",
       "      <td>22.4</td>\n",
       "      <td>10.0</td>\n",
       "      <td>40.0</td>\n",
       "      <td>0.0</td>\n",
       "      <td>None</td>\n",
       "    </tr>\n",
       "    <tr>\n",
       "      <th>5516</th>\n",
       "      <td>102922.0</td>\n",
       "      <td>3.5</td>\n",
       "      <td>3.0</td>\n",
       "      <td>6.0</td>\n",
       "      <td>20.8</td>\n",
       "      <td>11.0</td>\n",
       "      <td>55.0</td>\n",
       "      <td>0.0</td>\n",
       "      <td>None</td>\n",
       "    </tr>\n",
       "    <tr>\n",
       "      <th>5521</th>\n",
       "      <td>102934.0</td>\n",
       "      <td>7.5</td>\n",
       "      <td>3.0</td>\n",
       "      <td>5.0</td>\n",
       "      <td>26.3</td>\n",
       "      <td>12.0</td>\n",
       "      <td>40.0</td>\n",
       "      <td>0.0</td>\n",
       "      <td>None</td>\n",
       "    </tr>\n",
       "    <tr>\n",
       "      <th>5528</th>\n",
       "      <td>102949.0</td>\n",
       "      <td>6.5</td>\n",
       "      <td>0.0</td>\n",
       "      <td>3.0</td>\n",
       "      <td>23.7</td>\n",
       "      <td>20.0</td>\n",
       "      <td>80.0</td>\n",
       "      <td>5.0</td>\n",
       "      <td>None</td>\n",
       "    </tr>\n",
       "  </tbody>\n",
       "</table>\n",
       "<p>210 rows × 9 columns</p>\n",
       "</div>"
      ],
      "text/plain": [
       "          SEQN  SLD012  ALQ130  PAQ610  BMXBMI  SMD650  OCQ180  DUQ Depression\n",
       "5      93712.0     7.5     0.0     6.0    19.7     2.0    55.0  1.0       None\n",
       "26     93743.0     5.5     0.0     7.0    22.5    20.0    53.0  0.0       Mild\n",
       "36     93761.0     8.0     2.0     5.0    29.0    10.0    40.0  0.0       None\n",
       "174    93972.0     6.5     5.0     5.0    29.6    10.0    55.0  2.0       None\n",
       "185    93987.0     6.5     7.0     5.0    39.2     8.0    32.0  0.0       None\n",
       "...        ...     ...     ...     ...     ...     ...     ...  ...        ...\n",
       "5491  102884.0     9.0     4.0     5.0    31.7     2.0    60.0  0.0       None\n",
       "5513  102918.0     9.0     6.0     5.0    22.4    10.0    40.0  0.0       None\n",
       "5516  102922.0     3.5     3.0     6.0    20.8    11.0    55.0  0.0       None\n",
       "5521  102934.0     7.5     3.0     5.0    26.3    12.0    40.0  0.0       None\n",
       "5528  102949.0     6.5     0.0     3.0    23.7    20.0    80.0  5.0       None\n",
       "\n",
       "[210 rows x 9 columns]"
      ]
     },
     "execution_count": 11,
     "metadata": {},
     "output_type": "execute_result"
    }
   ],
   "source": [
    "model_data = model_data.reindex(columns=['SEQN','SLD012', 'ALQ130', 'PAQ610', 'BMXBMI', 'SMD650', 'OCQ180', 'DUQ', 'Depression'])\n",
    "model_data"
   ]
  },
  {
   "cell_type": "code",
   "execution_count": 12,
   "metadata": {},
   "outputs": [],
   "source": [
    "train_features = model_data.iloc[:, 1:8]\n",
    "train_labels = model_data.iloc[:, -1]\n",
    "\n",
    "np.random.seed(0)\n",
    "\n",
    "test_frac = 0.3\n",
    "\n",
    "X_train, X_test, y_train, y_test = train_test_split(train_features, train_labels, test_size=test_frac, random_state=0)"
   ]
  },
  {
   "cell_type": "code",
   "execution_count": 13,
   "metadata": {},
   "outputs": [],
   "source": [
    "scaler = StandardScaler().fit(X_train)\n",
    "X_train = scaler.transform(X_train)\n",
    "X_test = scaler.transform(X_test)"
   ]
  },
  {
   "cell_type": "code",
   "execution_count": 14,
   "metadata": {},
   "outputs": [],
   "source": [
    "model = RandomForestClassifier(n_estimators=200).fit(X_train, y_train)\n",
    "y_hat = model.predict(X_test)\n",
    "scores = model.predict_proba(X_test)[:, 1]\n",
    "accuracy = model.score(X_test, y_test)"
   ]
  },
  {
   "cell_type": "code",
   "execution_count": 15,
   "metadata": {},
   "outputs": [
    {
     "data": {
      "text/plain": [
       "0.6984126984126984"
      ]
     },
     "execution_count": 15,
     "metadata": {},
     "output_type": "execute_result"
    }
   ],
   "source": [
    "#A bunch of testing happens here and below\n",
    "accuracy"
   ]
  },
  {
   "cell_type": "code",
   "execution_count": 16,
   "metadata": {},
   "outputs": [
    {
     "data": {
      "text/plain": [
       "None                 0.714286\n",
       "Mild                 0.142857\n",
       "Moderate             0.079365\n",
       "Moderately Severe    0.063492\n",
       "Name: Depression, dtype: float64"
      ]
     },
     "execution_count": 16,
     "metadata": {},
     "output_type": "execute_result"
    }
   ],
   "source": [
    "y_test.value_counts(normalize=True)"
   ]
  },
  {
   "cell_type": "code",
   "execution_count": 17,
   "metadata": {},
   "outputs": [
    {
     "name": "stdout",
     "output_type": "stream",
     "text": [
      "Feature Importance Rankings\n",
      "DUQ : Importance 0.079\n",
      "PAQ610 : Importance 0.108\n",
      "ALQ130 : Importance 0.13\n",
      "SMD650 : Importance 0.15\n",
      "OCQ180 : Importance 0.158\n",
      "SLD012 : Importance 0.164\n",
      "BMXBMI : Importance 0.21\n"
     ]
    }
   ],
   "source": [
    "importances = model.feature_importances_\n",
    "sorted_idx = model.feature_importances_.argsort()\n",
    "\n",
    "features = model_data.iloc[:, 1:8].columns[sorted_idx]\n",
    "importances = importances[sorted_idx]\n",
    "\n",
    "\n",
    "print('Feature Importance Rankings')\n",
    "for f, i in zip(features, importances):\n",
    "    print(f, ': Importance', i.round(3))"
   ]
  },
  {
   "cell_type": "code",
   "execution_count": 18,
   "metadata": {},
   "outputs": [
    {
     "data": {
      "image/png": "[encoded data removed]",
      "text/plain": [
       "<Figure size 432x288 with 1 Axes>"
      ]
     },
     "metadata": {},
     "output_type": "display_data"
    }
   ],
   "source": [
    "std = np.std([tree.feature_importances_ for tree in model.estimators_], axis=0)\n",
    "indices = np.argsort(importances)[::-1]\n",
    "\n",
    "plt.figure()\n",
    "plt.title(\"Feature Importances\")\n",
    "plt.bar(range(X_train.shape[1]), importances[indices],\n",
    "        color=\"r\", yerr=std[indices], align=\"center\")\n",
    "plt.xticks(range(X_train.shape[1]), indices)\n",
    "plt.xlim([-1, X_train.shape[1]])\n",
    "plt.show()"
   ]
  },
  {
   "cell_type": "code",
   "execution_count": 19,
   "metadata": {},
   "outputs": [],
   "source": [
    "#I will plot a decision tree here\n"
   ]
  },
  {
   "cell_type": "code",
   "execution_count": null,
   "metadata": {},
   "outputs": [],
   "source": []
  },
  {
   "cell_type": "code",
   "execution_count": null,
   "metadata": {},
   "outputs": [],
   "source": []
  }
 ],
 "metadata": {
  "kernelspec": {
   "display_name": "Python 3",
   "language": "python",
   "name": "python3"
  },
  "language_info": {
   "codemirror_mode": {
    "name": "ipython",
    "version": 3
   },
   "file_extension": ".py",
   "mimetype": "text/x-python",
   "name": "python",
   "nbconvert_exporter": "python",
   "pygments_lexer": "ipython3",
   "version": "3.8.5"
  }
 },
 "nbformat": 4,
 "nbformat_minor": 5
}
